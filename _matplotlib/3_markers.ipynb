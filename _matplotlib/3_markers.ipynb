{
 "cells": [
  {
   "cell_type": "markdown",
   "metadata": {},
   "source": [
    "# Matplotlib Markers"
   ]
  },
  {
   "cell_type": "markdown",
   "metadata": {},
   "source": [
    "## Markers\n",
    "You can use the keyword argument marker to emphasize each point with a specified marker:\n",
    "\n",
    "Example\n",
    "Mark each point with a circle:"
   ]
  },
  {
   "cell_type": "code",
   "execution_count": null,
   "metadata": {},
   "outputs": [],
   "source": [
    "import matplotlib.pyplot as plt\n",
    "import numpy as np\n",
    "\n",
    "ypoints = np.array([3, 8, 1, 10])\n",
    "\n",
    "plt.plot(ypoints, marker = 'o')\n",
    "plt.show()"
   ]
  },
  {
   "cell_type": "markdown",
   "metadata": {},
   "source": [
    "## Marker Reference\n",
    "You can choose any of these markers:\n",
    "\n",
    "Marker\tDescription\n",
    "'o'\tCircle\n",
    "'*'\tStar\n",
    "'.'\tPoint\n",
    "','\tPixel\n",
    "'x'\tX\n",
    "'X'\tX (filled)\n",
    "'+'\tPlus\n",
    "'P'\tPlus (filled)\n",
    "'s'\tSquare\n",
    "'D'\tDiamond\n",
    "'d'\tDiamond (thin)\n",
    "'p'\tPentagon\n",
    "'H'\tHexagon\n",
    "'h'\tHexagon\n",
    "'v'\tTriangle Down\n",
    "'^'\tTriangle Up\n",
    "'<'\tTriangle Left\n",
    "'>'\tTriangle Right\n",
    "'1'\tTri Down\n",
    "'2'\tTri Up\n",
    "'3'\tTri Left\n",
    "'4'\tTri Right\n",
    "'|'\tVline\n",
    "'_'\tHline"
   ]
  },
  {
   "cell_type": "markdown",
   "metadata": {},
   "source": [
    "## Format Strings fmt\n",
    "You can use also use the shortcut string notation parameter to specify the marker.\n",
    "\n",
    "This parameter is also called fmt, and is written with this syntax:\n",
    "\n",
    "*marker|line|color* \n",
    "\n",
    "### Example\n",
    "Mark each point with a circle:"
   ]
  },
  {
   "cell_type": "markdown",
   "source": [
    "The marker value can be anything from the Marker Reference above.\n",
    "\n",
    "The line value can be one of the following:\n",
    "\n",
    "Line Reference\n",
    "Line Syntax\tDescription\n",
    "'-'\tSolid line\n",
    "':'\tDotted line\n",
    "'--'\tDashed line\n",
    "'-.'\tDashed/dotted line\n",
    "\n",
    "Note: If you leave out the line value in the fmt parameter, no line will be plotted.\n",
    "\n",
    "The short color value can be one of the following:\n",
    "\n",
    "Color Reference\n",
    "Color Syntax\tDescription\n",
    "'r'\tRed\n",
    "'g'\tGreen\n",
    "'b'\tBlue\n",
    "'c'\tCyan\n",
    "'m'\tMagenta\n",
    "'y'\tYellow\n",
    "'k'\tBlack\n",
    "'w'\tWhite"
   ],
   "metadata": {
    "collapsed": false
   }
  },
  {
   "cell_type": "markdown",
   "source": [
    "## Marker Size\n",
    "You can use the keyword argument markersize or the shorter version, ms to set the size of the markers:\n",
    "\n",
    "Example\n",
    "Set the size of the markers to 20:"
   ],
   "metadata": {
    "collapsed": false
   }
  },
  {
   "cell_type": "code",
   "execution_count": null,
   "outputs": [],
   "source": [
    "import matplotlib.pyplot as plt\n",
    "import numpy as np\n",
    "\n",
    "ypoints = np.array([3, 8, 1, 10])\n",
    "\n",
    "plt.plot(ypoints, marker = 'o', ms = 20)\n",
    "plt.show()"
   ],
   "metadata": {
    "collapsed": false
   }
  },
  {
   "cell_type": "markdown",
   "source": [
    "## Marker Color\n",
    "You can use the keyword argument **markeredgecolor** or the shorter **mec** to set the color of the edge of the markers:\n",
    "\n",
    "Example\n",
    "Set the EDGE color to red:"
   ],
   "metadata": {
    "collapsed": false
   }
  },
  {
   "cell_type": "code",
   "execution_count": null,
   "outputs": [],
   "source": [
    "import matplotlib.pyplot as plt\n",
    "import numpy as np\n",
    "\n",
    "ypoints = np.array([3, 8, 1, 10])\n",
    "\n",
    "plt.plot(ypoints, marker = 'o', ms = 20, mec = 'r')\n",
    "plt.show()"
   ],
   "metadata": {
    "collapsed": false
   }
  },
  {
   "cell_type": "markdown",
   "source": [
    "You can use the keyword argument **markerfacecolor** or the shorter **mfc** to set the color inside the edge of the markers:\n",
    "\n",
    "Example\n",
    "Set the FACE color to red:"
   ],
   "metadata": {
    "collapsed": false
   }
  },
  {
   "cell_type": "code",
   "execution_count": null,
   "outputs": [],
   "source": [
    "import matplotlib.pyplot as plt\n",
    "import numpy as np\n",
    "\n",
    "ypoints = np.array([3, 8, 1, 10])\n",
    "\n",
    "plt.plot(ypoints, marker = 'o', ms = 20, mfc = 'r')\n",
    "plt.show()\n"
   ],
   "metadata": {
    "collapsed": false
   }
  },
  {
   "cell_type": "markdown",
   "source": [
    "Use both the mec and mfc arguments to color the entire marker:\n",
    "\n",
    "Example\n",
    "Set the color of both the edge and the face to red:\n",
    "\n"
   ],
   "metadata": {
    "collapsed": false
   }
  },
  {
   "cell_type": "code",
   "execution_count": null,
   "outputs": [],
   "source": [
    "import matplotlib.pyplot as plt\n",
    "import numpy as np\n",
    "\n",
    "ypoints = np.array([3, 8, 1, 10])\n",
    "\n",
    "plt.plot(ypoints, marker = 'o', ms = 20, mec = 'r', mfc = 'r')"
   ],
   "metadata": {
    "collapsed": false
   }
  },
  {
   "cell_type": "markdown",
   "source": [
    "You can also use Hexadecimal color values:\n",
    "\n",
    "Example\n",
    "Mark each point with a beautiful green color:"
   ],
   "metadata": {
    "collapsed": false
   }
  },
  {
   "cell_type": "code",
   "execution_count": null,
   "outputs": [],
   "source": [
    "import matplotlib.pyplot as plt\n",
    "import numpy as np\n",
    "\n",
    "ypoints = np.array([3, 8, 1, 10])\n",
    "\n",
    "plt.plot(ypoints, marker = 'o', ms = 20, mec = '#4CAF50', mfc = '#4CAF50')"
   ],
   "metadata": {
    "collapsed": false
   }
  },
  {
   "cell_type": "markdown",
   "source": [
    "Or any of the [140 supported color names](https://www.w3schools.com/colors/colors_names.asp).\n",
    "\n",
    "Example\n",
    "Mark each point with the color named \"hotpink\":"
   ],
   "metadata": {
    "collapsed": false
   }
  },
  {
   "cell_type": "code",
   "execution_count": null,
   "outputs": [],
   "source": [
    "import matplotlib.pyplot as plt\n",
    "import numpy as np\n",
    "\n",
    "ypoints = np.array([3, 8, 1, 10])\n",
    "\n",
    "plt.plot(ypoints, marker = 'o', ms = 20, mec = 'hotpink', mfc = 'hotpink')"
   ],
   "metadata": {
    "collapsed": false
   }
  }
 ],
 "metadata": {
  "kernelspec": {
   "display_name": "Python 3 (ipykernel)",
   "language": "python",
   "name": "python3"
  },
  "language_info": {
   "codemirror_mode": {
    "name": "ipython",
    "version": 3
   },
   "file_extension": ".py",
   "mimetype": "text/x-python",
   "name": "python",
   "nbconvert_exporter": "python",
   "pygments_lexer": "ipython3",
   "version": "3.10.10"
  }
 },
 "nbformat": 4,
 "nbformat_minor": 1
}
